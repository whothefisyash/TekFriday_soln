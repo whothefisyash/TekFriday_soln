{
 "cells": [
  {
   "cell_type": "markdown",
   "id": "3239d1be",
   "metadata": {},
   "source": [
    "# Part B: Loan Risk Calculator"
   ]
  },
  {
   "cell_type": "markdown",
   "id": "e52eeb22",
   "metadata": {},
   "source": [
    "In this part, we implement a function to classify loan risk based on a formula using the dataset `main_loan_base.csv`.\n",
    "\n",
    "**Formula:**\n",
    "```\n",
    "risk_score = (missed_repayments * 2) + (loan_amount / collateral_value) + (interest / 2)\n",
    "```\n",
    "\n",
    "**Classification:**\n",
    "- Score < 15 → LOW\n",
    "- Score 15–25 → MEDIUM\n",
    "- Score > 25 → HIGH\n"
   ]
  },
  {
   "cell_type": "code",
   "execution_count": 7,
   "id": "44b2268b",
   "metadata": {},
   "outputs": [],
   "source": [
    "import pandas as pd"
   ]
  },
  {
   "cell_type": "markdown",
   "id": "82e8f745",
   "metadata": {},
   "source": [
    "### Loading the dataset"
   ]
  },
  {
   "cell_type": "code",
   "execution_count": 8,
   "id": "d342b3b5",
   "metadata": {},
   "outputs": [
    {
     "data": {
      "text/html": [
       "<div>\n",
       "<style scoped>\n",
       "    .dataframe tbody tr th:only-of-type {\n",
       "        vertical-align: middle;\n",
       "    }\n",
       "\n",
       "    .dataframe tbody tr th {\n",
       "        vertical-align: top;\n",
       "    }\n",
       "\n",
       "    .dataframe thead th {\n",
       "        text-align: right;\n",
       "    }\n",
       "</style>\n",
       "<table border=\"1\" class=\"dataframe\">\n",
       "  <thead>\n",
       "    <tr style=\"text-align: right;\">\n",
       "      <th></th>\n",
       "      <th>loan_acc_num</th>\n",
       "      <th>customer_name</th>\n",
       "      <th>customer_address</th>\n",
       "      <th>loan_type</th>\n",
       "      <th>loan_amount</th>\n",
       "      <th>collateral_value</th>\n",
       "      <th>cheque_bounces</th>\n",
       "      <th>number_of_loans</th>\n",
       "      <th>missed_repayments</th>\n",
       "      <th>vintage_in_months</th>\n",
       "      <th>tenure_years</th>\n",
       "      <th>interest</th>\n",
       "      <th>monthly_emi</th>\n",
       "      <th>disbursal_date</th>\n",
       "      <th>default_date</th>\n",
       "    </tr>\n",
       "  </thead>\n",
       "  <tbody>\n",
       "    <tr>\n",
       "      <th>0</th>\n",
       "      <td>LN79307711</td>\n",
       "      <td>Aarna Sura</td>\n",
       "      <td>09/506, Anand Path, Ongole 646592</td>\n",
       "      <td>Consumer-Durable</td>\n",
       "      <td>21916</td>\n",
       "      <td>4929.47</td>\n",
       "      <td>200</td>\n",
       "      <td>9.17</td>\n",
       "      <td>20638.94</td>\n",
       "      <td>20648.86</td>\n",
       "      <td>1.70</td>\n",
       "      <td>10.1</td>\n",
       "      <td>1012.32</td>\n",
       "      <td>2019-04-14</td>\n",
       "      <td>2020-07-31</td>\n",
       "    </tr>\n",
       "    <tr>\n",
       "      <th>1</th>\n",
       "      <td>LN88987787</td>\n",
       "      <td>Amira Konda</td>\n",
       "      <td>11, Dhaliwal Circle\\nRaichur 659460</td>\n",
       "      <td>Two-Wheeler</td>\n",
       "      <td>121184</td>\n",
       "      <td>10254.50</td>\n",
       "      <td>200</td>\n",
       "      <td>6.67</td>\n",
       "      <td>134551.04</td>\n",
       "      <td>134560.46</td>\n",
       "      <td>1.97</td>\n",
       "      <td>11.8</td>\n",
       "      <td>5693.24</td>\n",
       "      <td>2015-04-14</td>\n",
       "      <td>2016-07-30</td>\n",
       "    </tr>\n",
       "    <tr>\n",
       "      <th>2</th>\n",
       "      <td>LN78096023</td>\n",
       "      <td>Eshani Khosla</td>\n",
       "      <td>H.No. 31\\nAtwal Street\\nKatihar-037896</td>\n",
       "      <td>Car</td>\n",
       "      <td>487036</td>\n",
       "      <td>116183.86</td>\n",
       "      <td>200</td>\n",
       "      <td>9.81</td>\n",
       "      <td>490405.74</td>\n",
       "      <td>490410.18</td>\n",
       "      <td>2.43</td>\n",
       "      <td>14.6</td>\n",
       "      <td>16788.02</td>\n",
       "      <td>2015-01-10</td>\n",
       "      <td>2015-04-18</td>\n",
       "    </tr>\n",
       "    <tr>\n",
       "      <th>3</th>\n",
       "      <td>LN56862431</td>\n",
       "      <td>Divij Kala</td>\n",
       "      <td>766, Gulati Marg\\nPudukkottai-051396</td>\n",
       "      <td>Two-Wheeler</td>\n",
       "      <td>52125</td>\n",
       "      <td>10310.05</td>\n",
       "      <td>200</td>\n",
       "      <td>9.96</td>\n",
       "      <td>46195.89</td>\n",
       "      <td>46197.25</td>\n",
       "      <td>1.61</td>\n",
       "      <td>9.6</td>\n",
       "      <td>2395.69</td>\n",
       "      <td>2018-02-07</td>\n",
       "      <td>2018-09-13</td>\n",
       "    </tr>\n",
       "    <tr>\n",
       "      <th>4</th>\n",
       "      <td>LN77262680</td>\n",
       "      <td>Vaibhav Bir</td>\n",
       "      <td>55/73, Sachdev Marg\\nDharmavaram-332966</td>\n",
       "      <td>Consumer-Durable</td>\n",
       "      <td>8635</td>\n",
       "      <td>1051.25</td>\n",
       "      <td>200</td>\n",
       "      <td>9.01</td>\n",
       "      <td>7813.47</td>\n",
       "      <td>7819.90</td>\n",
       "      <td>1.64</td>\n",
       "      <td>9.6</td>\n",
       "      <td>396.87</td>\n",
       "      <td>2014-12-25</td>\n",
       "      <td>2016-02-20</td>\n",
       "    </tr>\n",
       "  </tbody>\n",
       "</table>\n",
       "</div>"
      ],
      "text/plain": [
       "  loan_acc_num  customer_name                         customer_address  \\\n",
       "0   LN79307711     Aarna Sura        09/506, Anand Path, Ongole 646592   \n",
       "1   LN88987787    Amira Konda      11, Dhaliwal Circle\\nRaichur 659460   \n",
       "2   LN78096023  Eshani Khosla   H.No. 31\\nAtwal Street\\nKatihar-037896   \n",
       "3   LN56862431     Divij Kala     766, Gulati Marg\\nPudukkottai-051396   \n",
       "4   LN77262680    Vaibhav Bir  55/73, Sachdev Marg\\nDharmavaram-332966   \n",
       "\n",
       "          loan_type  loan_amount  collateral_value  cheque_bounces  \\\n",
       "0  Consumer-Durable        21916           4929.47             200   \n",
       "1       Two-Wheeler       121184          10254.50             200   \n",
       "2               Car       487036         116183.86             200   \n",
       "3       Two-Wheeler        52125          10310.05             200   \n",
       "4  Consumer-Durable         8635           1051.25             200   \n",
       "\n",
       "   number_of_loans  missed_repayments  vintage_in_months  tenure_years  \\\n",
       "0             9.17           20638.94           20648.86          1.70   \n",
       "1             6.67          134551.04          134560.46          1.97   \n",
       "2             9.81          490405.74          490410.18          2.43   \n",
       "3             9.96           46195.89           46197.25          1.61   \n",
       "4             9.01            7813.47            7819.90          1.64   \n",
       "\n",
       "   interest  monthly_emi disbursal_date default_date  \n",
       "0      10.1      1012.32     2019-04-14   2020-07-31  \n",
       "1      11.8      5693.24     2015-04-14   2016-07-30  \n",
       "2      14.6     16788.02     2015-01-10   2015-04-18  \n",
       "3       9.6      2395.69     2018-02-07   2018-09-13  \n",
       "4       9.6       396.87     2014-12-25   2016-02-20  "
      ]
     },
     "execution_count": 8,
     "metadata": {},
     "output_type": "execute_result"
    }
   ],
   "source": [
    "df = pd.read_csv('datasets/main_loan_base.csv')\n",
    "df.head()"
   ]
  },
  {
   "cell_type": "code",
   "execution_count": null,
   "id": "46acf183",
   "metadata": {},
   "outputs": [],
   "source": [
    "# Function to calculate score\n",
    "# here we have divided missed repayments by 1000 to avoid large numbers ()scaling \n",
    "def calculate_risk_score(row):\n",
    "    try:\n",
    "        score = ((row['missed_repayments'] / 1000) * 2) + (row['loan_amount'] / row['collateral_value']) + (row['interest'] / 2)\n",
    "        return score\n",
    "    except ZeroDivisionError:\n",
    "        return None\n",
    "\n",
    "# Function to classify based on score\n",
    "def classify_loan_risk(score):\n",
    "    if score is None:\n",
    "        return \"INVALID\"\n",
    "    elif score < 15:\n",
    "        return \"LOW\"\n",
    "    elif 15 <= score <= 25:\n",
    "        return \"MEDIUM\"\n",
    "    else:\n",
    "        return \"HIGH\""
   ]
  },
  {
   "cell_type": "code",
   "execution_count": 63,
   "id": "c8c685dc",
   "metadata": {},
   "outputs": [],
   "source": [
    "df['risk_score'] = df.apply(calculate_risk_score, axis=1)\n",
    "df['risk_level'] = df['risk_score'].apply(classify_loan_risk)"
   ]
  },
  {
   "cell_type": "markdown",
   "id": "a0f76456",
   "metadata": {},
   "source": [
    "### Sample Output"
   ]
  },
  {
   "cell_type": "code",
   "execution_count": 64,
   "id": "15a77714",
   "metadata": {},
   "outputs": [
    {
     "data": {
      "text/plain": [
       "'Sample output'"
      ]
     },
     "execution_count": 64,
     "metadata": {},
     "output_type": "execute_result"
    }
   ],
   "source": [
    "\"Sample output\""
   ]
  },
  {
   "cell_type": "code",
   "execution_count": 67,
   "id": "75c65877",
   "metadata": {},
   "outputs": [
    {
     "name": "stdout",
     "output_type": "stream",
     "text": [
      "      loan_acc_num  loan_amount  collateral_value  missed_repayments  \\\n",
      "36901   LN15252116        76323           1195.44           51797.05   \n",
      "29718   LN37366445        68902          11370.79          111183.19   \n",
      "21659   LN87581935        76801          10726.08           56096.75   \n",
      "8172    LN52579019      1870228         559802.35         2514449.00   \n",
      "430     LN99410639       361728           9324.40          352295.97   \n",
      "5967    LN44313121         3237            961.61            1570.40   \n",
      "42493   LN85672805       177803          51363.38           75723.32   \n",
      "24400   LN34530347       114128           6366.60          156124.09   \n",
      "40152   LN44772564         8429           1792.96            4695.68   \n",
      "41969   LN79362062        85869           4531.46           72519.21   \n",
      "\n",
      "       interest   risk_score risk_level  \n",
      "36901      14.4   174.639211       HIGH  \n",
      "29718       9.2   233.025941       HIGH  \n",
      "21659      11.1   124.903711       HIGH  \n",
      "8172       14.0  5039.238872       HIGH  \n",
      "430        14.2   750.485643       HIGH  \n",
      "5967        8.6    10.807030        LOW  \n",
      "42493       8.6   159.208309       HIGH  \n",
      "24400      14.2   337.274232       HIGH  \n",
      "40152      12.0    20.092525     MEDIUM  \n",
      "41969       9.2   168.587942       HIGH  \n"
     ]
    }
   ],
   "source": [
    "print(df[['loan_acc_num', 'loan_amount', 'collateral_value', 'missed_repayments', 'interest', 'risk_score', 'risk_level']].sample(10, random_state=79\n",
    "                                                                                                                                  ))"
   ]
  },
  {
   "cell_type": "code",
   "execution_count": null,
   "id": "fe62ab3e",
   "metadata": {},
   "outputs": [],
   "source": []
  },
  {
   "cell_type": "code",
   "execution_count": null,
   "id": "7f9d14ce",
   "metadata": {},
   "outputs": [],
   "source": []
  }
 ],
 "metadata": {
  "kernelspec": {
   "display_name": "base",
   "language": "python",
   "name": "python3"
  },
  "language_info": {
   "codemirror_mode": {
    "name": "ipython",
    "version": 3
   },
   "file_extension": ".py",
   "mimetype": "text/x-python",
   "name": "python",
   "nbconvert_exporter": "python",
   "pygments_lexer": "ipython3",
   "version": "3.12.4"
  }
 },
 "nbformat": 4,
 "nbformat_minor": 5
}
